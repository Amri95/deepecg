{
 "cells": [
  {
   "cell_type": "markdown",
   "metadata": {},
   "source": [
    "# Physionet 2017 | ECG Rhythm Classification\n",
    "## 3. Create Training Dataset\n",
    "### Sebastian D. Goodfellow, Ph.D."
   ]
  },
  {
   "cell_type": "markdown",
   "metadata": {},
   "source": [
    "<br>\n",
    "# Setup Noteboook"
   ]
  },
  {
   "cell_type": "code",
   "execution_count": 18,
   "metadata": {},
   "outputs": [
    {
     "name": "stdout",
     "output_type": "stream",
     "text": [
      "The autoreload extension is already loaded. To reload it, use:\n",
      "  %reload_ext autoreload\n"
     ]
    }
   ],
   "source": [
    "# Import 3rd party libraries\n",
    "import os\n",
    "import sys\n",
    "\n",
    "# Import local Libraries\n",
    "sys.path.insert(0, r'C:\\Users\\sebig\\Documents\\code\\deep_ecg')\n",
    "from utils.data.ecg_tools.waveform_db import WaveformDB\n",
    "from utils.data.ecg_tools.training_dataset import TrainingDataset\n",
    "from utils.plotting.waveforms import plot_waveforms_interact\n",
    "\n",
    "# Configure Notebook\n",
    "import warnings\n",
    "warnings.filterwarnings('ignore')\n",
    "%matplotlib inline\n",
    "%load_ext autoreload\n",
    "%autoreload 2"
   ]
  },
  {
   "cell_type": "markdown",
   "metadata": {},
   "source": [
    "# 1. Import Waveform Database"
   ]
  },
  {
   "cell_type": "code",
   "execution_count": 19,
   "metadata": {},
   "outputs": [],
   "source": [
    "# Set path\n",
    "path = os.path.join(os.path.dirname(os.getcwd()), 'data')\n",
    "\n",
    "# Sample frequency\n",
    "fs = 300"
   ]
  },
  {
   "cell_type": "code",
   "execution_count": 20,
   "metadata": {},
   "outputs": [],
   "source": [
    "# Initialize\n",
    "waveform_db = WaveformDB(\n",
    "    path_waveforms=os.path.join(path, 'waveforms'),\n",
    "    path_labels=os.path.join(path, 'labels'),\n",
    "    fs=fs\n",
    ")\n",
    "\n",
    "# Build waveform database\n",
    "waveform_db.load_database()"
   ]
  },
  {
   "cell_type": "markdown",
   "metadata": {},
   "source": [
    "# 2. Create Training Dataset"
   ]
  },
  {
   "cell_type": "code",
   "execution_count": 21,
   "metadata": {
    "scrolled": false
   },
   "outputs": [],
   "source": [
    "# Get dataset\n",
    "dataset = TrainingDataset(waveforms=waveform_db.waveforms, duration=60, path=path, \n",
    "                          fs=fs, file_name='training_60s.pickle', classes=['N', 'A', 'O'])"
   ]
  },
  {
   "cell_type": "code",
   "execution_count": 22,
   "metadata": {},
   "outputs": [
    {
     "data": {
      "application/vnd.jupyter.widget-view+json": {
       "model_id": "57a00204ff2c456b9c6adcfae0749a5b",
       "version_major": 2,
       "version_minor": 0
      },
      "text/plain": [
       "interactive(children=(IntSlider(value=4124, description='index', max=8248), Output()), _dom_classes=('widget-i…"
      ]
     },
     "metadata": {},
     "output_type": "display_data"
    }
   ],
   "source": [
    "# Plot dataset\n",
    "dataset.plot_interact()"
   ]
  },
  {
   "cell_type": "markdown",
   "metadata": {},
   "source": [
    "# 3. Test training and validation dimensions"
   ]
  },
  {
   "cell_type": "code",
   "execution_count": 23,
   "metadata": {},
   "outputs": [
    {
     "data": {
      "text/html": [
       "<div>\n",
       "<style scoped>\n",
       "    .dataframe tbody tr th:only-of-type {\n",
       "        vertical-align: middle;\n",
       "    }\n",
       "\n",
       "    .dataframe tbody tr th {\n",
       "        vertical-align: top;\n",
       "    }\n",
       "\n",
       "    .dataframe thead th {\n",
       "        text-align: right;\n",
       "    }\n",
       "</style>\n",
       "<table border=\"1\" class=\"dataframe\">\n",
       "  <thead>\n",
       "    <tr style=\"text-align: right;\">\n",
       "      <th></th>\n",
       "      <th>0</th>\n",
       "      <th>1</th>\n",
       "      <th>2</th>\n",
       "      <th>3</th>\n",
       "      <th>4</th>\n",
       "      <th>5</th>\n",
       "      <th>6</th>\n",
       "      <th>7</th>\n",
       "      <th>8</th>\n",
       "      <th>9</th>\n",
       "      <th>...</th>\n",
       "      <th>17990</th>\n",
       "      <th>17991</th>\n",
       "      <th>17992</th>\n",
       "      <th>17993</th>\n",
       "      <th>17994</th>\n",
       "      <th>17995</th>\n",
       "      <th>17996</th>\n",
       "      <th>17997</th>\n",
       "      <th>17998</th>\n",
       "      <th>17999</th>\n",
       "    </tr>\n",
       "  </thead>\n",
       "  <tbody>\n",
       "    <tr>\n",
       "      <th>0</th>\n",
       "      <td>0.000000</td>\n",
       "      <td>0.000000</td>\n",
       "      <td>0.000000</td>\n",
       "      <td>0.000000</td>\n",
       "      <td>0.000000</td>\n",
       "      <td>0.000000</td>\n",
       "      <td>0.000000</td>\n",
       "      <td>0.000000</td>\n",
       "      <td>0.000000</td>\n",
       "      <td>0.000000</td>\n",
       "      <td>...</td>\n",
       "      <td>0.000000</td>\n",
       "      <td>0.000000</td>\n",
       "      <td>0.000000</td>\n",
       "      <td>0.000000</td>\n",
       "      <td>0.000000</td>\n",
       "      <td>0.000000</td>\n",
       "      <td>0.000000</td>\n",
       "      <td>0.000000</td>\n",
       "      <td>0.000000</td>\n",
       "      <td>0.000000e+00</td>\n",
       "    </tr>\n",
       "    <tr>\n",
       "      <th>1</th>\n",
       "      <td>0.000000</td>\n",
       "      <td>0.000000</td>\n",
       "      <td>0.000000</td>\n",
       "      <td>0.000000</td>\n",
       "      <td>0.000000</td>\n",
       "      <td>0.000000</td>\n",
       "      <td>0.000000</td>\n",
       "      <td>0.000000</td>\n",
       "      <td>0.000000</td>\n",
       "      <td>0.000000</td>\n",
       "      <td>...</td>\n",
       "      <td>0.000000</td>\n",
       "      <td>0.000000</td>\n",
       "      <td>0.000000</td>\n",
       "      <td>0.000000</td>\n",
       "      <td>0.000000</td>\n",
       "      <td>0.000000</td>\n",
       "      <td>0.000000</td>\n",
       "      <td>0.000000</td>\n",
       "      <td>0.000000</td>\n",
       "      <td>0.000000e+00</td>\n",
       "    </tr>\n",
       "    <tr>\n",
       "      <th>2</th>\n",
       "      <td>-0.006038</td>\n",
       "      <td>-0.029938</td>\n",
       "      <td>-0.050968</td>\n",
       "      <td>-0.066733</td>\n",
       "      <td>-0.075896</td>\n",
       "      <td>-0.078686</td>\n",
       "      <td>-0.076840</td>\n",
       "      <td>-0.072681</td>\n",
       "      <td>-0.067662</td>\n",
       "      <td>-0.061310</td>\n",
       "      <td>...</td>\n",
       "      <td>0.166619</td>\n",
       "      <td>0.176484</td>\n",
       "      <td>0.183984</td>\n",
       "      <td>0.186159</td>\n",
       "      <td>0.179995</td>\n",
       "      <td>0.163308</td>\n",
       "      <td>0.135429</td>\n",
       "      <td>0.097412</td>\n",
       "      <td>0.051803</td>\n",
       "      <td>2.156354e-03</td>\n",
       "    </tr>\n",
       "    <tr>\n",
       "      <th>3</th>\n",
       "      <td>0.000000</td>\n",
       "      <td>0.000000</td>\n",
       "      <td>0.000000</td>\n",
       "      <td>0.000000</td>\n",
       "      <td>0.000000</td>\n",
       "      <td>0.000000</td>\n",
       "      <td>0.000000</td>\n",
       "      <td>0.000000</td>\n",
       "      <td>0.000000</td>\n",
       "      <td>0.000000</td>\n",
       "      <td>...</td>\n",
       "      <td>0.000000</td>\n",
       "      <td>0.000000</td>\n",
       "      <td>0.000000</td>\n",
       "      <td>0.000000</td>\n",
       "      <td>0.000000</td>\n",
       "      <td>0.000000</td>\n",
       "      <td>0.000000</td>\n",
       "      <td>0.000000</td>\n",
       "      <td>0.000000</td>\n",
       "      <td>0.000000e+00</td>\n",
       "    </tr>\n",
       "    <tr>\n",
       "      <th>4</th>\n",
       "      <td>-0.009290</td>\n",
       "      <td>-0.051783</td>\n",
       "      <td>-0.090654</td>\n",
       "      <td>-0.122534</td>\n",
       "      <td>-0.144774</td>\n",
       "      <td>-0.156099</td>\n",
       "      <td>-0.157107</td>\n",
       "      <td>-0.150224</td>\n",
       "      <td>-0.138938</td>\n",
       "      <td>-0.126603</td>\n",
       "      <td>...</td>\n",
       "      <td>-0.415277</td>\n",
       "      <td>-0.381404</td>\n",
       "      <td>-0.340459</td>\n",
       "      <td>-0.291859</td>\n",
       "      <td>-0.238339</td>\n",
       "      <td>-0.184270</td>\n",
       "      <td>-0.133117</td>\n",
       "      <td>-0.086029</td>\n",
       "      <td>-0.042192</td>\n",
       "      <td>-1.526284e-17</td>\n",
       "    </tr>\n",
       "  </tbody>\n",
       "</table>\n",
       "<p>5 rows × 18000 columns</p>\n",
       "</div>"
      ],
      "text/plain": [
       "      0         1         2         3         4         5         6      \\\n",
       "0  0.000000  0.000000  0.000000  0.000000  0.000000  0.000000  0.000000   \n",
       "1  0.000000  0.000000  0.000000  0.000000  0.000000  0.000000  0.000000   \n",
       "2 -0.006038 -0.029938 -0.050968 -0.066733 -0.075896 -0.078686 -0.076840   \n",
       "3  0.000000  0.000000  0.000000  0.000000  0.000000  0.000000  0.000000   \n",
       "4 -0.009290 -0.051783 -0.090654 -0.122534 -0.144774 -0.156099 -0.157107   \n",
       "\n",
       "      7         8         9          ...          17990     17991     17992  \\\n",
       "0  0.000000  0.000000  0.000000      ...       0.000000  0.000000  0.000000   \n",
       "1  0.000000  0.000000  0.000000      ...       0.000000  0.000000  0.000000   \n",
       "2 -0.072681 -0.067662 -0.061310      ...       0.166619  0.176484  0.183984   \n",
       "3  0.000000  0.000000  0.000000      ...       0.000000  0.000000  0.000000   \n",
       "4 -0.150224 -0.138938 -0.126603      ...      -0.415277 -0.381404 -0.340459   \n",
       "\n",
       "      17993     17994     17995     17996     17997     17998         17999  \n",
       "0  0.000000  0.000000  0.000000  0.000000  0.000000  0.000000  0.000000e+00  \n",
       "1  0.000000  0.000000  0.000000  0.000000  0.000000  0.000000  0.000000e+00  \n",
       "2  0.186159  0.179995  0.163308  0.135429  0.097412  0.051803  2.156354e-03  \n",
       "3  0.000000  0.000000  0.000000  0.000000  0.000000  0.000000  0.000000e+00  \n",
       "4 -0.291859 -0.238339 -0.184270 -0.133117 -0.086029 -0.042192 -1.526284e-17  \n",
       "\n",
       "[5 rows x 18000 columns]"
      ]
     },
     "execution_count": 23,
     "metadata": {},
     "output_type": "execute_result"
    }
   ],
   "source": [
    "# Dataset\n",
    "dataset.data.head()"
   ]
  },
  {
   "cell_type": "code",
   "execution_count": 24,
   "metadata": {},
   "outputs": [
    {
     "data": {
      "text/html": [
       "<div>\n",
       "<style scoped>\n",
       "    .dataframe tbody tr th:only-of-type {\n",
       "        vertical-align: middle;\n",
       "    }\n",
       "\n",
       "    .dataframe tbody tr th {\n",
       "        vertical-align: top;\n",
       "    }\n",
       "\n",
       "    .dataframe thead th {\n",
       "        text-align: right;\n",
       "    }\n",
       "</style>\n",
       "<table border=\"1\" class=\"dataframe\">\n",
       "  <thead>\n",
       "    <tr style=\"text-align: right;\">\n",
       "      <th></th>\n",
       "      <th>file_name</th>\n",
       "      <th>label_str</th>\n",
       "      <th>label_int</th>\n",
       "    </tr>\n",
       "  </thead>\n",
       "  <tbody>\n",
       "    <tr>\n",
       "      <th>0</th>\n",
       "      <td>A00001</td>\n",
       "      <td>N</td>\n",
       "      <td>0</td>\n",
       "    </tr>\n",
       "    <tr>\n",
       "      <th>1</th>\n",
       "      <td>A00002</td>\n",
       "      <td>N</td>\n",
       "      <td>0</td>\n",
       "    </tr>\n",
       "    <tr>\n",
       "      <th>2</th>\n",
       "      <td>A00003</td>\n",
       "      <td>N</td>\n",
       "      <td>0</td>\n",
       "    </tr>\n",
       "    <tr>\n",
       "      <th>3</th>\n",
       "      <td>A00004</td>\n",
       "      <td>A</td>\n",
       "      <td>1</td>\n",
       "    </tr>\n",
       "    <tr>\n",
       "      <th>4</th>\n",
       "      <td>A00005</td>\n",
       "      <td>A</td>\n",
       "      <td>1</td>\n",
       "    </tr>\n",
       "  </tbody>\n",
       "</table>\n",
       "</div>"
      ],
      "text/plain": [
       "  file_name label_str label_int\n",
       "0    A00001         N         0\n",
       "1    A00002         N         0\n",
       "2    A00003         N         0\n",
       "3    A00004         A         1\n",
       "4    A00005         A         1"
      ]
     },
     "execution_count": 24,
     "metadata": {},
     "output_type": "execute_result"
    }
   ],
   "source": [
    "# Labels\n",
    "dataset.labels.head()"
   ]
  }
 ],
 "metadata": {
  "kernelspec": {
   "display_name": "Python 3",
   "language": "python",
   "name": "python3"
  },
  "language_info": {
   "codemirror_mode": {
    "name": "ipython",
    "version": 3
   },
   "file_extension": ".py",
   "mimetype": "text/x-python",
   "name": "python",
   "nbconvert_exporter": "python",
   "pygments_lexer": "ipython3",
   "version": "3.6.5"
  }
 },
 "nbformat": 4,
 "nbformat_minor": 2
}
